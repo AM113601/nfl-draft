{
 "cells": [
  {
   "cell_type": "code",
   "execution_count": 1,
   "metadata": {},
   "outputs": [],
   "source": [
    "import pandas as pd\n",
    "from matplotlib import pyplot as plt\n",
    "import numpy as np"
   ]
  },
  {
   "cell_type": "code",
   "execution_count": 2,
   "metadata": {},
   "outputs": [
    {
     "data": {
      "text/html": [
       "<div>\n",
       "<style scoped>\n",
       "    .dataframe tbody tr th:only-of-type {\n",
       "        vertical-align: middle;\n",
       "    }\n",
       "\n",
       "    .dataframe tbody tr th {\n",
       "        vertical-align: top;\n",
       "    }\n",
       "\n",
       "    .dataframe thead th {\n",
       "        text-align: right;\n",
       "    }\n",
       "</style>\n",
       "<table border=\"1\" class=\"dataframe\">\n",
       "  <thead>\n",
       "    <tr style=\"text-align: right;\">\n",
       "      <th></th>\n",
       "      <th>Player</th>\n",
       "      <th>Pos</th>\n",
       "      <th>Ht</th>\n",
       "      <th>Wt</th>\n",
       "      <th>Forty</th>\n",
       "      <th>Vertical</th>\n",
       "      <th>BenchReps</th>\n",
       "      <th>BroadJump</th>\n",
       "      <th>Cone</th>\n",
       "      <th>Shuttle</th>\n",
       "      <th>Year</th>\n",
       "      <th>Pfr_ID</th>\n",
       "      <th>AV</th>\n",
       "      <th>Team</th>\n",
       "      <th>Round</th>\n",
       "      <th>Pick</th>\n",
       "      <th>Drafted</th>\n",
       "    </tr>\n",
       "  </thead>\n",
       "  <tbody>\n",
       "    <tr>\n",
       "      <th>2</th>\n",
       "      <td>Darnell Alford</td>\n",
       "      <td>OT</td>\n",
       "      <td>76</td>\n",
       "      <td>334</td>\n",
       "      <td>5.56</td>\n",
       "      <td>25.0</td>\n",
       "      <td>23.0</td>\n",
       "      <td>94.0</td>\n",
       "      <td>8.48</td>\n",
       "      <td>4.98</td>\n",
       "      <td>2000</td>\n",
       "      <td>AlfoDa20</td>\n",
       "      <td>0.0</td>\n",
       "      <td>Kansas City Chiefs</td>\n",
       "      <td>6.0</td>\n",
       "      <td>188.0</td>\n",
       "      <td>1</td>\n",
       "    </tr>\n",
       "    <tr>\n",
       "      <th>7</th>\n",
       "      <td>Corey Atkins</td>\n",
       "      <td>OLB</td>\n",
       "      <td>72</td>\n",
       "      <td>237</td>\n",
       "      <td>4.72</td>\n",
       "      <td>31.0</td>\n",
       "      <td>21.0</td>\n",
       "      <td>112.0</td>\n",
       "      <td>7.96</td>\n",
       "      <td>4.39</td>\n",
       "      <td>2000</td>\n",
       "      <td>AtkiCo20</td>\n",
       "      <td>1.0</td>\n",
       "      <td>NaN</td>\n",
       "      <td>NaN</td>\n",
       "      <td>NaN</td>\n",
       "      <td>0</td>\n",
       "    </tr>\n",
       "    <tr>\n",
       "      <th>9</th>\n",
       "      <td>Reggie Austin</td>\n",
       "      <td>CB</td>\n",
       "      <td>69</td>\n",
       "      <td>175</td>\n",
       "      <td>4.44</td>\n",
       "      <td>35.0</td>\n",
       "      <td>17.0</td>\n",
       "      <td>119.0</td>\n",
       "      <td>7.03</td>\n",
       "      <td>4.14</td>\n",
       "      <td>2000</td>\n",
       "      <td>AustRe20</td>\n",
       "      <td>3.0</td>\n",
       "      <td>Chicago Bears</td>\n",
       "      <td>4.0</td>\n",
       "      <td>125.0</td>\n",
       "      <td>1</td>\n",
       "    </tr>\n",
       "    <tr>\n",
       "      <th>12</th>\n",
       "      <td>Rashidi Barnes</td>\n",
       "      <td>FS</td>\n",
       "      <td>72</td>\n",
       "      <td>208</td>\n",
       "      <td>4.62</td>\n",
       "      <td>35.0</td>\n",
       "      <td>10.0</td>\n",
       "      <td>114.0</td>\n",
       "      <td>6.92</td>\n",
       "      <td>4.32</td>\n",
       "      <td>2000</td>\n",
       "      <td>BarnRa20</td>\n",
       "      <td>1.0</td>\n",
       "      <td>Cleveland Browns</td>\n",
       "      <td>7.0</td>\n",
       "      <td>225.0</td>\n",
       "      <td>1</td>\n",
       "    </tr>\n",
       "    <tr>\n",
       "      <th>13</th>\n",
       "      <td>David Barrett</td>\n",
       "      <td>CB</td>\n",
       "      <td>70</td>\n",
       "      <td>199</td>\n",
       "      <td>4.44</td>\n",
       "      <td>37.5</td>\n",
       "      <td>16.0</td>\n",
       "      <td>116.0</td>\n",
       "      <td>6.81</td>\n",
       "      <td>4.04</td>\n",
       "      <td>2000</td>\n",
       "      <td>BarrDa22</td>\n",
       "      <td>10.0</td>\n",
       "      <td>Arizona Cardinals</td>\n",
       "      <td>4.0</td>\n",
       "      <td>102.0</td>\n",
       "      <td>1</td>\n",
       "    </tr>\n",
       "    <tr>\n",
       "      <th>...</th>\n",
       "      <td>...</td>\n",
       "      <td>...</td>\n",
       "      <td>...</td>\n",
       "      <td>...</td>\n",
       "      <td>...</td>\n",
       "      <td>...</td>\n",
       "      <td>...</td>\n",
       "      <td>...</td>\n",
       "      <td>...</td>\n",
       "      <td>...</td>\n",
       "      <td>...</td>\n",
       "      <td>...</td>\n",
       "      <td>...</td>\n",
       "      <td>...</td>\n",
       "      <td>...</td>\n",
       "      <td>...</td>\n",
       "      <td>...</td>\n",
       "    </tr>\n",
       "    <tr>\n",
       "      <th>5872</th>\n",
       "      <td>Marcus Williams-02</td>\n",
       "      <td>FS</td>\n",
       "      <td>73</td>\n",
       "      <td>202</td>\n",
       "      <td>4.56</td>\n",
       "      <td>43.5</td>\n",
       "      <td>14.0</td>\n",
       "      <td>129.0</td>\n",
       "      <td>6.85</td>\n",
       "      <td>4.20</td>\n",
       "      <td>2017</td>\n",
       "      <td>WillMa06</td>\n",
       "      <td>0.0</td>\n",
       "      <td>NaN</td>\n",
       "      <td>NaN</td>\n",
       "      <td>NaN</td>\n",
       "      <td>0</td>\n",
       "    </tr>\n",
       "    <tr>\n",
       "      <th>5873</th>\n",
       "      <td>Joe Williams</td>\n",
       "      <td>RB</td>\n",
       "      <td>71</td>\n",
       "      <td>210</td>\n",
       "      <td>4.41</td>\n",
       "      <td>35.0</td>\n",
       "      <td>14.0</td>\n",
       "      <td>125.0</td>\n",
       "      <td>7.19</td>\n",
       "      <td>4.19</td>\n",
       "      <td>2017</td>\n",
       "      <td>WillJo12</td>\n",
       "      <td>0.0</td>\n",
       "      <td>San Francisco 49ers</td>\n",
       "      <td>4.0</td>\n",
       "      <td>121.0</td>\n",
       "      <td>1</td>\n",
       "    </tr>\n",
       "    <tr>\n",
       "      <th>5875</th>\n",
       "      <td>Jordan Willis</td>\n",
       "      <td>DE</td>\n",
       "      <td>76</td>\n",
       "      <td>255</td>\n",
       "      <td>4.53</td>\n",
       "      <td>39.0</td>\n",
       "      <td>24.0</td>\n",
       "      <td>125.0</td>\n",
       "      <td>6.85</td>\n",
       "      <td>4.28</td>\n",
       "      <td>2017</td>\n",
       "      <td>WillJo09</td>\n",
       "      <td>2.0</td>\n",
       "      <td>Cincinnati Bengals</td>\n",
       "      <td>3.0</td>\n",
       "      <td>73.0</td>\n",
       "      <td>1</td>\n",
       "    </tr>\n",
       "    <tr>\n",
       "      <th>5876</th>\n",
       "      <td>Quincy Wilson-02</td>\n",
       "      <td>CB</td>\n",
       "      <td>73</td>\n",
       "      <td>211</td>\n",
       "      <td>4.54</td>\n",
       "      <td>32.0</td>\n",
       "      <td>14.0</td>\n",
       "      <td>118.0</td>\n",
       "      <td>6.86</td>\n",
       "      <td>4.02</td>\n",
       "      <td>2017</td>\n",
       "      <td>WilsQu01</td>\n",
       "      <td>2.0</td>\n",
       "      <td>Indianapolis Colts</td>\n",
       "      <td>2.0</td>\n",
       "      <td>46.0</td>\n",
       "      <td>1</td>\n",
       "    </tr>\n",
       "    <tr>\n",
       "      <th>5880</th>\n",
       "      <td>Xavier Woods</td>\n",
       "      <td>SS</td>\n",
       "      <td>71</td>\n",
       "      <td>197</td>\n",
       "      <td>4.54</td>\n",
       "      <td>33.5</td>\n",
       "      <td>19.0</td>\n",
       "      <td>122.0</td>\n",
       "      <td>6.72</td>\n",
       "      <td>4.13</td>\n",
       "      <td>2017</td>\n",
       "      <td>WoodXa00</td>\n",
       "      <td>3.0</td>\n",
       "      <td>Dallas Cowboys</td>\n",
       "      <td>6.0</td>\n",
       "      <td>191.0</td>\n",
       "      <td>1</td>\n",
       "    </tr>\n",
       "  </tbody>\n",
       "</table>\n",
       "<p>2270 rows × 17 columns</p>\n",
       "</div>"
      ],
      "text/plain": [
       "                  Player  Pos  Ht   Wt  Forty  Vertical  BenchReps  BroadJump  \\\n",
       "2         Darnell Alford   OT  76  334   5.56      25.0       23.0       94.0   \n",
       "7           Corey Atkins  OLB  72  237   4.72      31.0       21.0      112.0   \n",
       "9          Reggie Austin   CB  69  175   4.44      35.0       17.0      119.0   \n",
       "12        Rashidi Barnes   FS  72  208   4.62      35.0       10.0      114.0   \n",
       "13         David Barrett   CB  70  199   4.44      37.5       16.0      116.0   \n",
       "...                  ...  ...  ..  ...    ...       ...        ...        ...   \n",
       "5872  Marcus Williams-02   FS  73  202   4.56      43.5       14.0      129.0   \n",
       "5873        Joe Williams   RB  71  210   4.41      35.0       14.0      125.0   \n",
       "5875       Jordan Willis   DE  76  255   4.53      39.0       24.0      125.0   \n",
       "5876    Quincy Wilson-02   CB  73  211   4.54      32.0       14.0      118.0   \n",
       "5880        Xavier Woods   SS  71  197   4.54      33.5       19.0      122.0   \n",
       "\n",
       "      Cone  Shuttle  Year    Pfr_ID    AV                 Team  Round   Pick  \\\n",
       "2     8.48     4.98  2000  AlfoDa20   0.0   Kansas City Chiefs    6.0  188.0   \n",
       "7     7.96     4.39  2000  AtkiCo20   1.0                  NaN    NaN    NaN   \n",
       "9     7.03     4.14  2000  AustRe20   3.0        Chicago Bears    4.0  125.0   \n",
       "12    6.92     4.32  2000  BarnRa20   1.0     Cleveland Browns    7.0  225.0   \n",
       "13    6.81     4.04  2000  BarrDa22  10.0    Arizona Cardinals    4.0  102.0   \n",
       "...    ...      ...   ...       ...   ...                  ...    ...    ...   \n",
       "5872  6.85     4.20  2017  WillMa06   0.0                  NaN    NaN    NaN   \n",
       "5873  7.19     4.19  2017  WillJo12   0.0  San Francisco 49ers    4.0  121.0   \n",
       "5875  6.85     4.28  2017  WillJo09   2.0   Cincinnati Bengals    3.0   73.0   \n",
       "5876  6.86     4.02  2017  WilsQu01   2.0   Indianapolis Colts    2.0   46.0   \n",
       "5880  6.72     4.13  2017  WoodXa00   3.0       Dallas Cowboys    6.0  191.0   \n",
       "\n",
       "      Drafted  \n",
       "2           1  \n",
       "7           0  \n",
       "9           1  \n",
       "12          1  \n",
       "13          1  \n",
       "...       ...  \n",
       "5872        0  \n",
       "5873        1  \n",
       "5875        1  \n",
       "5876        1  \n",
       "5880        1  \n",
       "\n",
       "[2270 rows x 17 columns]"
      ]
     },
     "execution_count": 2,
     "metadata": {},
     "output_type": "execute_result"
    }
   ],
   "source": [
    "df = pd.read_csv(\"nfl.csv\") #name of the csv file\n",
    "df = df.dropna(subset=[\"Pos\", \"Forty\", \"Vertical\", \"BenchReps\", \"BroadJump\", \"Cone\", \"Shuttle\", \"Year\", \"Pfr_ID\"])\n",
    "df[\"Drafted\"] = df[\"Team\"].notnull().astype(int) #Labels for Drafted\n",
    "df = df[df[\"Year\"] != 2018] #to drop observations with 2018 if needed\n",
    "df"
   ]
  },
  {
   "cell_type": "code",
   "execution_count": 25,
   "metadata": {},
   "outputs": [
    {
     "data": {
      "text/plain": [
       "65"
      ]
     },
     "execution_count": 25,
     "metadata": {},
     "output_type": "execute_result"
    }
   ],
   "source": [
    "df[\"Ht\"].min()"
   ]
  },
  {
   "cell_type": "code",
   "execution_count": 3,
   "metadata": {
    "scrolled": true
   },
   "outputs": [
    {
     "data": {
      "text/plain": [
       "Text(0.5, 1.0, 'Figure 1: Yearly Report of Players Draft Results')"
      ]
     },
     "execution_count": 3,
     "metadata": {},
     "output_type": "execute_result"
    },
    {
     "data": {
      "image/png": "[encoded data removed]",
      "text/plain": [
       "<Figure size 432x288 with 1 Axes>"
      ]
     },
     "metadata": {
      "needs_background": "light"
     },
     "output_type": "display_data"
    }
   ],
   "source": [
    "years = df[\"Year\"].unique().tolist()\n",
    "drafted = []\n",
    "not_drafted = []\n",
    "proportion = {}\n",
    "for year in years:\n",
    "    num_not_drafted = df[df[\"Year\"] == year][\"Team\"].isnull().sum() #number of not drafted players\n",
    "    num_drafted = df[df[\"Year\"] == year][\"Team\"].notnull().sum() #number of drafted players\n",
    "    not_drafted.append(num_not_drafted)\n",
    "    drafted.append(num_drafted)\n",
    "    proportion[year] = num_drafted / (num_drafted + num_not_drafted) #calculates proportion\n",
    "\n",
    "ax = plt.subplot()\n",
    "bar_plot_drafted = pd.DataFrame({'Drafted': drafted, 'Not Drafted': not_drafted}, index=years)\n",
    "bar_plot_drafted.plot.bar(ax = ax)\n",
    "ax.set_xlabel(\"Year\")\n",
    "ax.set_ylabel(\"Player Count\")\n",
    "ax.set_title(\"Figure 1: Yearly Report of Players Draft Results\", pad=20)"
   ]
  },
  {
   "cell_type": "code",
   "execution_count": 4,
   "metadata": {},
   "outputs": [
    {
     "data": {
      "text/plain": [
       "{2000: 0.8351648351648352,\n",
       " 2001: 0.8414634146341463,\n",
       " 2002: 0.8020833333333334,\n",
       " 2003: 0.7857142857142857,\n",
       " 2004: 0.7978723404255319,\n",
       " 2005: 0.7657657657657657,\n",
       " 2006: 0.8852459016393442,\n",
       " 2007: 0.8857142857142857,\n",
       " 2008: 0.8617886178861789,\n",
       " 2009: 0.8013698630136986,\n",
       " 2010: 0.8148148148148148,\n",
       " 2011: 0.7819148936170213,\n",
       " 2012: 0.7662337662337663,\n",
       " 2013: 0.7346938775510204,\n",
       " 2014: 0.7108433734939759,\n",
       " 2015: 0.7985611510791367,\n",
       " 2016: 0.6785714285714286,\n",
       " 2017: 0.7293233082706767}"
      ]
     },
     "execution_count": 4,
     "metadata": {},
     "output_type": "execute_result"
    }
   ],
   "source": [
    "proportion #proportion of people draft each year"
   ]
  },
  {
   "cell_type": "code",
   "execution_count": 5,
   "metadata": {},
   "outputs": [],
   "source": [
    "from sklearn.model_selection import train_test_split, cross_val_score\n",
    "from sklearn.pipeline import Pipeline\n",
    "from sklearn.preprocessing import PolynomialFeatures, OneHotEncoder, StandardScaler\n",
    "from sklearn.compose import make_column_transformer\n",
    "from sklearn.linear_model import LogisticRegression"
   ]
  },
  {
   "cell_type": "code",
   "execution_count": 41,
   "metadata": {},
   "outputs": [],
   "source": [
    "model = Pipeline([ #creating model\n",
    "                       (\"std\", StandardScaler()),\n",
    "                        (\"lr\", LogisticRegression())\n",
    "                        ])\n",
    "model1 = LogisticRegression(max_iter=10000)"
   ]
  },
  {
   "cell_type": "code",
   "execution_count": 42,
   "metadata": {},
   "outputs": [],
   "source": [
    "train, test = train_test_split(df, random_state=0) #70/30 train?\n",
    "features = [\"Ht\", \"Wt\", \"Forty\", \"Vertical\", \"BenchReps\", \"BroadJump\", \"Cone\", \"Shuttle\"]"
   ]
  },
  {
   "cell_type": "code",
   "execution_count": 43,
   "metadata": {},
   "outputs": [
    {
     "data": {
      "text/html": [
       "<div>\n",
       "<style scoped>\n",
       "    .dataframe tbody tr th:only-of-type {\n",
       "        vertical-align: middle;\n",
       "    }\n",
       "\n",
       "    .dataframe tbody tr th {\n",
       "        vertical-align: top;\n",
       "    }\n",
       "\n",
       "    .dataframe thead th {\n",
       "        text-align: right;\n",
       "    }\n",
       "</style>\n",
       "<table border=\"1\" class=\"dataframe\">\n",
       "  <thead>\n",
       "    <tr style=\"text-align: right;\">\n",
       "      <th></th>\n",
       "      <th>Ht</th>\n",
       "      <th>Wt</th>\n",
       "      <th>Forty</th>\n",
       "      <th>Vertical</th>\n",
       "      <th>BenchReps</th>\n",
       "      <th>BroadJump</th>\n",
       "      <th>Cone</th>\n",
       "      <th>Shuttle</th>\n",
       "    </tr>\n",
       "  </thead>\n",
       "  <tbody>\n",
       "    <tr>\n",
       "      <th>1070</th>\n",
       "      <td>80</td>\n",
       "      <td>262</td>\n",
       "      <td>4.83</td>\n",
       "      <td>35.0</td>\n",
       "      <td>24.0</td>\n",
       "      <td>112.0</td>\n",
       "      <td>7.26</td>\n",
       "      <td>4.33</td>\n",
       "    </tr>\n",
       "    <tr>\n",
       "      <th>4053</th>\n",
       "      <td>70</td>\n",
       "      <td>191</td>\n",
       "      <td>4.48</td>\n",
       "      <td>34.5</td>\n",
       "      <td>19.0</td>\n",
       "      <td>118.0</td>\n",
       "      <td>6.97</td>\n",
       "      <td>4.03</td>\n",
       "    </tr>\n",
       "    <tr>\n",
       "      <th>1882</th>\n",
       "      <td>72</td>\n",
       "      <td>196</td>\n",
       "      <td>4.44</td>\n",
       "      <td>40.5</td>\n",
       "      <td>15.0</td>\n",
       "      <td>126.0</td>\n",
       "      <td>6.48</td>\n",
       "      <td>3.82</td>\n",
       "    </tr>\n",
       "    <tr>\n",
       "      <th>3063</th>\n",
       "      <td>75</td>\n",
       "      <td>300</td>\n",
       "      <td>4.83</td>\n",
       "      <td>33.0</td>\n",
       "      <td>34.0</td>\n",
       "      <td>108.0</td>\n",
       "      <td>7.50</td>\n",
       "      <td>4.55</td>\n",
       "    </tr>\n",
       "    <tr>\n",
       "      <th>2062</th>\n",
       "      <td>75</td>\n",
       "      <td>245</td>\n",
       "      <td>4.93</td>\n",
       "      <td>32.0</td>\n",
       "      <td>19.0</td>\n",
       "      <td>112.0</td>\n",
       "      <td>7.47</td>\n",
       "      <td>4.30</td>\n",
       "    </tr>\n",
       "    <tr>\n",
       "      <th>...</th>\n",
       "      <td>...</td>\n",
       "      <td>...</td>\n",
       "      <td>...</td>\n",
       "      <td>...</td>\n",
       "      <td>...</td>\n",
       "      <td>...</td>\n",
       "      <td>...</td>\n",
       "      <td>...</td>\n",
       "    </tr>\n",
       "    <tr>\n",
       "      <th>3185</th>\n",
       "      <td>80</td>\n",
       "      <td>309</td>\n",
       "      <td>5.32</td>\n",
       "      <td>22.0</td>\n",
       "      <td>19.0</td>\n",
       "      <td>94.0</td>\n",
       "      <td>7.87</td>\n",
       "      <td>4.88</td>\n",
       "    </tr>\n",
       "    <tr>\n",
       "      <th>4638</th>\n",
       "      <td>71</td>\n",
       "      <td>203</td>\n",
       "      <td>4.41</td>\n",
       "      <td>32.5</td>\n",
       "      <td>17.0</td>\n",
       "      <td>117.0</td>\n",
       "      <td>7.15</td>\n",
       "      <td>4.27</td>\n",
       "    </tr>\n",
       "    <tr>\n",
       "      <th>2465</th>\n",
       "      <td>77</td>\n",
       "      <td>261</td>\n",
       "      <td>4.82</td>\n",
       "      <td>32.0</td>\n",
       "      <td>17.0</td>\n",
       "      <td>115.0</td>\n",
       "      <td>7.38</td>\n",
       "      <td>4.53</td>\n",
       "    </tr>\n",
       "    <tr>\n",
       "      <th>2708</th>\n",
       "      <td>72</td>\n",
       "      <td>210</td>\n",
       "      <td>4.42</td>\n",
       "      <td>36.5</td>\n",
       "      <td>20.0</td>\n",
       "      <td>125.0</td>\n",
       "      <td>6.90</td>\n",
       "      <td>4.19</td>\n",
       "    </tr>\n",
       "    <tr>\n",
       "      <th>4488</th>\n",
       "      <td>72</td>\n",
       "      <td>192</td>\n",
       "      <td>4.36</td>\n",
       "      <td>35.5</td>\n",
       "      <td>14.0</td>\n",
       "      <td>124.0</td>\n",
       "      <td>6.90</td>\n",
       "      <td>4.21</td>\n",
       "    </tr>\n",
       "  </tbody>\n",
       "</table>\n",
       "<p>1702 rows × 8 columns</p>\n",
       "</div>"
      ],
      "text/plain": [
       "      Ht   Wt  Forty  Vertical  BenchReps  BroadJump  Cone  Shuttle\n",
       "1070  80  262   4.83      35.0       24.0      112.0  7.26     4.33\n",
       "4053  70  191   4.48      34.5       19.0      118.0  6.97     4.03\n",
       "1882  72  196   4.44      40.5       15.0      126.0  6.48     3.82\n",
       "3063  75  300   4.83      33.0       34.0      108.0  7.50     4.55\n",
       "2062  75  245   4.93      32.0       19.0      112.0  7.47     4.30\n",
       "...   ..  ...    ...       ...        ...        ...   ...      ...\n",
       "3185  80  309   5.32      22.0       19.0       94.0  7.87     4.88\n",
       "4638  71  203   4.41      32.5       17.0      117.0  7.15     4.27\n",
       "2465  77  261   4.82      32.0       17.0      115.0  7.38     4.53\n",
       "2708  72  210   4.42      36.5       20.0      125.0  6.90     4.19\n",
       "4488  72  192   4.36      35.5       14.0      124.0  6.90     4.21\n",
       "\n",
       "[1702 rows x 8 columns]"
      ]
     },
     "execution_count": 43,
     "metadata": {},
     "output_type": "execute_result"
    }
   ],
   "source": [
    "train[features]"
   ]
  },
  {
   "cell_type": "code",
   "execution_count": 48,
   "metadata": {
    "scrolled": true
   },
   "outputs": [
    {
     "data": {
      "text/plain": [
       "0.795774647887324"
      ]
     },
     "execution_count": 48,
     "metadata": {},
     "output_type": "execute_result"
    }
   ],
   "source": [
    "model1.fit(train[features], train[\"Drafted\"])\n",
    "model1.predict(test[features])\n",
    "model1.score(test[features], test[\"Drafted\"]) #score of model"
   ]
  },
  {
   "cell_type": "code",
   "execution_count": 49,
   "metadata": {},
   "outputs": [
    {
     "data": {
      "text/plain": [
       "0.7922535211267606"
      ]
     },
     "execution_count": 49,
     "metadata": {},
     "output_type": "execute_result"
    }
   ],
   "source": [
    "model.fit(train[features], train[\"Drafted\"])\n",
    "model.predict(test[features])\n",
    "model.score(test[features], test[\"Drafted\"]) #score of model"
   ]
  },
  {
   "cell_type": "code",
   "execution_count": 46,
   "metadata": {},
   "outputs": [
    {
     "data": {
      "text/plain": [
       "array([ 0.03548378,  1.21462882, -0.95429723,  0.35265925,  0.28849538,\n",
       "       -0.13510098, -0.03443113, -0.27345877])"
      ]
     },
     "execution_count": 46,
     "metadata": {},
     "output_type": "execute_result"
    }
   ],
   "source": [
    "model[\"lr\"].coef_[0] #coefficients"
   ]
  },
  {
   "cell_type": "code",
   "execution_count": 47,
   "metadata": {},
   "outputs": [
    {
     "data": {
      "text/plain": [
       "Text(0, 0.5, 'Features')"
      ]
     },
     "execution_count": 47,
     "metadata": {},
     "output_type": "execute_result"
    },
    {
     "data": {
      "image/png": "[encoded data removed]",
      "text/plain": [
       "<Figure size 432x288 with 1 Axes>"
      ]
     },
     "metadata": {
      "needs_background": "light"
     },
     "output_type": "display_data"
    }
   ],
   "source": [
    "ax = plt.subplot()\n",
    "coef = pd.Series(model[\"lr\"].coef_[0], index = features)\n",
    "coef.plot.barh(ax=ax)\n",
    "ax.set_title(\"Figure 3: Logistic Regression Coefficients\", pad=20)\n",
    "ax.set_xlabel(\"Coefficient Weight\")\n",
    "ax.set_ylabel(\"Features\")"
   ]
  },
  {
   "cell_type": "code",
   "execution_count": 12,
   "metadata": {},
   "outputs": [
    {
     "data": {
      "text/plain": [
       "array([9.67852710e-01, 1.86688473e-02, 9.94796840e-03, 2.31808705e-03,\n",
       "       1.17480848e-03, 2.56247423e-05, 6.46121256e-06, 5.49308930e-06])"
      ]
     },
     "execution_count": 12,
     "metadata": {},
     "output_type": "execute_result"
    }
   ],
   "source": [
    "from sklearn.decomposition import PCA\n",
    "pca = PCA(len(features))\n",
    "pca.fit(df[features])\n",
    "variance = pca.explained_variance_ratio_\n",
    "variance"
   ]
  },
  {
   "cell_type": "code",
   "execution_count": 13,
   "metadata": {},
   "outputs": [
    {
     "data": {
      "text/plain": [
       "array([0.70130923, 0.10415483, 0.07682283, 0.04859008, 0.02803729,\n",
       "       0.01816724, 0.0153055 , 0.007613  ])"
      ]
     },
     "execution_count": 13,
     "metadata": {},
     "output_type": "execute_result"
    }
   ],
   "source": [
    "m1 = Pipeline([ #creating model\n",
    "                        (\"std\", StandardScaler()),\n",
    "                        (\"pca\", PCA(len(features)))\n",
    "                        ])\n",
    "m1.fit(df[features])\n",
    "variance_std = m1[\"pca\"].explained_variance_ratio_\n",
    "variance_std"
   ]
  },
  {
   "cell_type": "code",
   "execution_count": 14,
   "metadata": {},
   "outputs": [
    {
     "data": {
      "text/plain": [
       "Text(0, 0.5, 'Explained Variance')"
      ]
     },
     "execution_count": 14,
     "metadata": {},
     "output_type": "execute_result"
    },
    {
     "data": {
      "image/png": "[encoded data removed]",
      "text/plain": [
       "<Figure size 432x288 with 1 Axes>"
      ]
     },
     "metadata": {
      "needs_background": "light"
     },
     "output_type": "display_data"
    }
   ],
   "source": [
    "cumulative = []\n",
    "cumulative_std = []\n",
    "\n",
    "for i in range(1, len(variance) + 1): #sum up variance to get cumulative\n",
    "    cumulative_ratio = 0\n",
    "    cumulative_std_ratio = 0\n",
    "    for j in range(i):\n",
    "        cumulative_ratio += variance[j]\n",
    "        cumulative_std_ratio += variance_std[j]\n",
    "    cumulative.append(cumulative_ratio)\n",
    "    cumulative_std.append(cumulative_std_ratio)\n",
    "    \n",
    "indicies = [num_components for num_components in range(1, len(variance) + 1)]\n",
    "varianceDf = pd.DataFrame({\"Not Scaled\" : cumulative,\n",
    "                              \"Scaled\" : cumulative_std}, indicies)\n",
    "ax = plt.subplot()\n",
    "varianceDf.plot.line(ylim=[0, 1], ax=ax)\n",
    "ax.set_title(\"Figure 2: Cumulative Principal Components\", pad=20)\n",
    "ax.set_xlabel(\"Number of Components\")\n",
    "ax.set_ylabel(\"Explained Variance\")"
   ]
  },
  {
   "cell_type": "code",
   "execution_count": null,
   "metadata": {},
   "outputs": [],
   "source": [
    "###ATTEMPT AT ANOTHER MODEL. DID NOT INCLUDE IN REPORT."
   ]
  },
  {
   "cell_type": "code",
   "execution_count": 15,
   "metadata": {},
   "outputs": [],
   "source": [
    "m2 = Pipeline([ #creating model\n",
    "                        (\"std\", StandardScaler()),\n",
    "                        (\"pca\", PCA(0.8))\n",
    "                        ])"
   ]
  },
  {
   "cell_type": "code",
   "execution_count": 16,
   "metadata": {},
   "outputs": [
    {
     "data": {
      "text/plain": [
       "array([[ 0.29408819,  0.39970218,  0.39576025, -0.34486982,  0.25153708,\n",
       "        -0.36789154,  0.37711024,  0.37062341],\n",
       "       [ 0.3894862 ,  0.22929591, -0.07205676,  0.3974474 ,  0.70426969,\n",
       "         0.31281476, -0.11622927, -0.15877393]])"
      ]
     },
     "execution_count": 16,
     "metadata": {},
     "output_type": "execute_result"
    }
   ],
   "source": [
    "m2.fit(df[features])\n",
    "m2[\"pca\"].components_"
   ]
  },
  {
   "cell_type": "code",
   "execution_count": 17,
   "metadata": {},
   "outputs": [],
   "source": [
    "components = m2[\"pca\"].transform(df[features])"
   ]
  },
  {
   "cell_type": "code",
   "execution_count": 18,
   "metadata": {},
   "outputs": [
    {
     "data": {
      "text/html": [
       "<div>\n",
       "<style scoped>\n",
       "    .dataframe tbody tr th:only-of-type {\n",
       "        vertical-align: middle;\n",
       "    }\n",
       "\n",
       "    .dataframe tbody tr th {\n",
       "        vertical-align: top;\n",
       "    }\n",
       "\n",
       "    .dataframe thead th {\n",
       "        text-align: right;\n",
       "    }\n",
       "</style>\n",
       "<table border=\"1\" class=\"dataframe\">\n",
       "  <thead>\n",
       "    <tr style=\"text-align: right;\">\n",
       "      <th></th>\n",
       "      <th>First PCA</th>\n",
       "      <th>Second PCA</th>\n",
       "      <th>Draft</th>\n",
       "    </tr>\n",
       "  </thead>\n",
       "  <tbody>\n",
       "    <tr>\n",
       "      <th>2</th>\n",
       "      <td>125.677060</td>\n",
       "      <td>159.547806</td>\n",
       "      <td>1</td>\n",
       "    </tr>\n",
       "    <tr>\n",
       "      <th>7</th>\n",
       "      <td>75.788050</td>\n",
       "      <td>142.569612</td>\n",
       "      <td>0</td>\n",
       "    </tr>\n",
       "    <tr>\n",
       "      <th>9</th>\n",
       "      <td>44.609201</td>\n",
       "      <td>128.315184</td>\n",
       "      <td>1</td>\n",
       "    </tr>\n",
       "    <tr>\n",
       "      <th>12</th>\n",
       "      <td>58.856803</td>\n",
       "      <td>130.527682</td>\n",
       "      <td>1</td>\n",
       "    </tr>\n",
       "    <tr>\n",
       "      <th>13</th>\n",
       "      <td>54.366078</td>\n",
       "      <td>133.600125</td>\n",
       "      <td>1</td>\n",
       "    </tr>\n",
       "    <tr>\n",
       "      <th>...</th>\n",
       "      <td>...</td>\n",
       "      <td>...</td>\n",
       "      <td>...</td>\n",
       "    </tr>\n",
       "    <tr>\n",
       "      <th>5872</th>\n",
       "      <td>49.214441</td>\n",
       "      <td>140.460508</td>\n",
       "      <td>0</td>\n",
       "    </tr>\n",
       "    <tr>\n",
       "      <th>5873</th>\n",
       "      <td>56.291989</td>\n",
       "      <td>136.859219</td>\n",
       "      <td>1</td>\n",
       "    </tr>\n",
       "    <tr>\n",
       "      <th>5875</th>\n",
       "      <td>76.837550</td>\n",
       "      <td>157.774034</td>\n",
       "      <td>1</td>\n",
       "    </tr>\n",
       "    <tr>\n",
       "      <th>5876</th>\n",
       "      <td>60.753715</td>\n",
       "      <td>134.541422</td>\n",
       "      <td>1</td>\n",
       "    </tr>\n",
       "    <tr>\n",
       "      <th>5880</th>\n",
       "      <td>53.826495</td>\n",
       "      <td>135.919892</td>\n",
       "      <td>1</td>\n",
       "    </tr>\n",
       "  </tbody>\n",
       "</table>\n",
       "<p>2270 rows × 3 columns</p>\n",
       "</div>"
      ],
      "text/plain": [
       "       First PCA  Second PCA  Draft\n",
       "2     125.677060  159.547806      1\n",
       "7      75.788050  142.569612      0\n",
       "9      44.609201  128.315184      1\n",
       "12     58.856803  130.527682      1\n",
       "13     54.366078  133.600125      1\n",
       "...          ...         ...    ...\n",
       "5872   49.214441  140.460508      0\n",
       "5873   56.291989  136.859219      1\n",
       "5875   76.837550  157.774034      1\n",
       "5876   60.753715  134.541422      1\n",
       "5880   53.826495  135.919892      1\n",
       "\n",
       "[2270 rows x 3 columns]"
      ]
     },
     "execution_count": 18,
     "metadata": {},
     "output_type": "execute_result"
    }
   ],
   "source": [
    "first_pca_component = components[:, 0]\n",
    "second_pca_component = components[:, 1]\n",
    "df1 = pd.DataFrame({\"First PCA\":first_pca_component, \"Second PCA\":second_pca_component, \"Draft\":df[\"Drafted\"]})\n",
    "df1"
   ]
  },
  {
   "cell_type": "code",
   "execution_count": 19,
   "metadata": {},
   "outputs": [
    {
     "data": {
      "text/plain": [
       "<AxesSubplot:xlabel='First PCA', ylabel='Second PCA'>"
      ]
     },
     "execution_count": 19,
     "metadata": {},
     "output_type": "execute_result"
    },
    {
     "data": {
      "image/png": "[encoded data removed]",
      "text/plain": [
       "<Figure size 432x288 with 2 Axes>"
      ]
     },
     "metadata": {
      "needs_background": "light"
     },
     "output_type": "display_data"
    }
   ],
   "source": [
    "df1.plot.scatter(x=\"First PCA\", y=\"Second PCA\", c= \"Draft\", vmin=-1)"
   ]
  },
  {
   "cell_type": "code",
   "execution_count": null,
   "metadata": {},
   "outputs": [],
   "source": []
  }
 ],
 "metadata": {
  "kernelspec": {
   "display_name": "Python 3",
   "language": "python",
   "name": "python3"
  },
  "language_info": {
   "codemirror_mode": {
    "name": "ipython",
    "version": 3
   },
   "file_extension": ".py",
   "mimetype": "text/x-python",
   "name": "python",
   "nbconvert_exporter": "python",
   "pygments_lexer": "ipython3",
   "version": "3.8.5"
  }
 },
 "nbformat": 4,
 "nbformat_minor": 4
}
